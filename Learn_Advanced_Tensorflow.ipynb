{
  "nbformat": 4,
  "nbformat_minor": 0,
  "metadata": {
    "colab": {
      "name": "Learn: Advanced Tensorflow",
      "provenance": [],
      "authorship_tag": "ABX9TyOLOia+9giq0YRY7Q8R8UMS",
      "include_colab_link": true
    },
    "kernelspec": {
      "name": "python3",
      "display_name": "Python 3"
    },
    "language_info": {
      "name": "python"
    },
    "accelerator": "GPU"
  },
  "cells": [
    {
      "cell_type": "markdown",
      "metadata": {
        "id": "view-in-github",
        "colab_type": "text"
      },
      "source": [
        "<a href=\"https://colab.research.google.com/github/tarangga/Learn-Advanced-Tensorflow/blob/main/Learn_Advanced_Tensorflow.ipynb\" target=\"_parent\"><img src=\"https://colab.research.google.com/assets/colab-badge.svg\" alt=\"Open In Colab\"/></a>"
      ]
    },
    {
      "cell_type": "code",
      "metadata": {
        "id": "n594j8NRi3Jo"
      },
      "source": [
        "import tensorflow as tf"
      ],
      "execution_count": 1,
      "outputs": []
    },
    {
      "cell_type": "code",
      "metadata": {
        "colab": {
          "base_uri": "https://localhost:8080/"
        },
        "id": "YsazIPZjjDPY",
        "outputId": "c5faad7e-b4de-4b11-f933-72b9cfb13ef0"
      },
      "source": [
        "tf.add([1, 2], [3, 4])"
      ],
      "execution_count": 3,
      "outputs": [
        {
          "output_type": "execute_result",
          "data": {
            "text/plain": [
              "<tf.Tensor: shape=(2,), dtype=int32, numpy=array([4, 6], dtype=int32)>"
            ]
          },
          "metadata": {
            "tags": []
          },
          "execution_count": 3
        }
      ]
    },
    {
      "cell_type": "code",
      "metadata": {
        "colab": {
          "base_uri": "https://localhost:8080/"
        },
        "id": "Kk1DqE65jMLU",
        "outputId": "9d3d753c-8ad9-4e4d-9a4c-31a76322eb0a"
      },
      "source": [
        "tf.square([4, 9.0])"
      ],
      "execution_count": 7,
      "outputs": [
        {
          "output_type": "execute_result",
          "data": {
            "text/plain": [
              "<tf.Tensor: shape=(2,), dtype=float32, numpy=array([16., 81.], dtype=float32)>"
            ]
          },
          "metadata": {
            "tags": []
          },
          "execution_count": 7
        }
      ]
    },
    {
      "cell_type": "code",
      "metadata": {
        "colab": {
          "base_uri": "https://localhost:8080/"
        },
        "id": "uy-XmYrkjnqq",
        "outputId": "721222c5-35e3-4748-eddb-46d7dc65c10d"
      },
      "source": [
        "help(tf.reduce_sum)"
      ],
      "execution_count": 9,
      "outputs": [
        {
          "output_type": "stream",
          "text": [
            "Help on function reduce_sum in module tensorflow.python.ops.math_ops:\n",
            "\n",
            "reduce_sum(input_tensor, axis=None, keepdims=False, name=None)\n",
            "    Computes the sum of elements across dimensions of a tensor.\n",
            "    \n",
            "    This is the reduction operation for the elementwise `tf.math.add` op.\n",
            "    \n",
            "    Reduces `input_tensor` along the dimensions given in `axis`.\n",
            "    Unless `keepdims` is true, the rank of the tensor is reduced by 1 for each\n",
            "    of the entries in `axis`, which must be unique. If `keepdims` is true, the\n",
            "    reduced dimensions are retained with length 1.\n",
            "    \n",
            "    If `axis` is None, all dimensions are reduced, and a\n",
            "    tensor with a single element is returned.\n",
            "    \n",
            "    For example:\n",
            "    \n",
            "      >>> # x has a shape of (2, 3) (two rows and three columns):\n",
            "      >>> x = tf.constant([[1, 1, 1], [1, 1, 1]])\n",
            "      >>> x.numpy()\n",
            "      array([[1, 1, 1],\n",
            "             [1, 1, 1]], dtype=int32)\n",
            "      >>> # sum all the elements\n",
            "      >>> # 1 + 1 + 1 + 1 + 1+ 1 = 6\n",
            "      >>> tf.reduce_sum(x).numpy()\n",
            "      6\n",
            "      >>> # reduce along the first dimension\n",
            "      >>> # the result is [1, 1, 1] + [1, 1, 1] = [2, 2, 2]\n",
            "      >>> tf.reduce_sum(x, 0).numpy()\n",
            "      array([2, 2, 2], dtype=int32)\n",
            "      >>> # reduce along the second dimension\n",
            "      >>> # the result is [1, 1] + [1, 1] + [1, 1] = [3, 3]\n",
            "      >>> tf.reduce_sum(x, 1).numpy()\n",
            "      array([3, 3], dtype=int32)\n",
            "      >>> # keep the original dimensions\n",
            "      >>> tf.reduce_sum(x, 1, keepdims=True).numpy()\n",
            "      array([[3],\n",
            "             [3]], dtype=int32)\n",
            "      >>> # reduce along both dimensions\n",
            "      >>> # the result is 1 + 1 + 1 + 1 + 1 + 1 = 6\n",
            "      >>> # or, equivalently, reduce along rows, then reduce the resultant array\n",
            "      >>> # [1, 1, 1] + [1, 1, 1] = [2, 2, 2]\n",
            "      >>> # 2 + 2 + 2 = 6\n",
            "      >>> tf.reduce_sum(x, [0, 1]).numpy()\n",
            "      6\n",
            "    \n",
            "    Args:\n",
            "      input_tensor: The tensor to reduce. Should have numeric type.\n",
            "      axis: The dimensions to reduce. If `None` (the default), reduces all\n",
            "        dimensions. Must be in the range `[-rank(input_tensor),\n",
            "        rank(input_tensor)]`.\n",
            "      keepdims: If true, retains reduced dimensions with length 1.\n",
            "      name: A name for the operation (optional).\n",
            "    \n",
            "    Returns:\n",
            "      The reduced tensor, of the same dtype as the input_tensor.\n",
            "    \n",
            "    @compatibility(numpy)\n",
            "    Equivalent to np.sum apart the fact that numpy upcast uint8 and int32 to\n",
            "    int64 while tensorflow returns the same dtype as the input.\n",
            "    @end_compatibility\n",
            "\n"
          ],
          "name": "stdout"
        }
      ]
    },
    {
      "cell_type": "code",
      "metadata": {
        "colab": {
          "base_uri": "https://localhost:8080/"
        },
        "id": "OU6qal5ejTzI",
        "outputId": "4f0f94b7-1a45-40bc-bcd2-415693e68c71"
      },
      "source": [
        "tf.reduce_sum([[1, 2, 3], [2, 5, 0]])"
      ],
      "execution_count": 12,
      "outputs": [
        {
          "output_type": "execute_result",
          "data": {
            "text/plain": [
              "<tf.Tensor: shape=(), dtype=int32, numpy=13>"
            ]
          },
          "metadata": {
            "tags": []
          },
          "execution_count": 12
        }
      ]
    },
    {
      "cell_type": "code",
      "metadata": {
        "colab": {
          "base_uri": "https://localhost:8080/"
        },
        "id": "aVDamo6IkCxQ",
        "outputId": "8bba2df2-4d0f-4ed3-eb7f-a5f36899045d"
      },
      "source": [
        "tf.multiply([\n",
        "             [1, 2, 3],\n",
        "             [-1, -2, -3]\n",
        "], [0, -1, 3])"
      ],
      "execution_count": 22,
      "outputs": [
        {
          "output_type": "execute_result",
          "data": {
            "text/plain": [
              "<tf.Tensor: shape=(2, 3), dtype=int32, numpy=\n",
              "array([[ 0, -2,  9],\n",
              "       [ 0,  2, -9]], dtype=int32)>"
            ]
          },
          "metadata": {
            "tags": []
          },
          "execution_count": 22
        }
      ]
    },
    {
      "cell_type": "code",
      "metadata": {
        "colab": {
          "base_uri": "https://localhost:8080/"
        },
        "id": "WIoDjFqPkjoh",
        "outputId": "d5040afb-2608-4aa7-9bb4-d450820a6fb7"
      },
      "source": [
        "tf.config.list_physical_devices(\"GPU\")"
      ],
      "execution_count": 2,
      "outputs": [
        {
          "output_type": "execute_result",
          "data": {
            "text/plain": [
              "[PhysicalDevice(name='/physical_device:GPU:0', device_type='GPU')]"
            ]
          },
          "metadata": {
            "tags": []
          },
          "execution_count": 2
        }
      ]
    },
    {
      "cell_type": "code",
      "metadata": {
        "colab": {
          "base_uri": "https://localhost:8080/"
        },
        "id": "CcVrQM8IkqXt",
        "outputId": "c3196b98-29f6-4939-e177-3bfdcbc28667"
      },
      "source": [
        "tf.random.uniform([3, 3]).device.endswith('GPU:0')"
      ],
      "execution_count": 3,
      "outputs": [
        {
          "output_type": "execute_result",
          "data": {
            "text/plain": [
              "True"
            ]
          },
          "metadata": {
            "tags": []
          },
          "execution_count": 3
        }
      ]
    },
    {
      "cell_type": "code",
      "metadata": {
        "colab": {
          "base_uri": "https://localhost:8080/"
        },
        "id": "PXVJkmCzldTf",
        "outputId": "4ef0f922-e866-4b4f-b138-816f12b5f856"
      },
      "source": [
        "tf.matmul(\n",
        "    [\n",
        "     [1, 2],\n",
        "     [2, 3]\n",
        "    ], [\n",
        "        [-1, -2, -3],\n",
        "        [-3, -4, -6]\n",
        "    ]\n",
        ")"
      ],
      "execution_count": 7,
      "outputs": [
        {
          "output_type": "execute_result",
          "data": {
            "text/plain": [
              "<tf.Tensor: shape=(2, 3), dtype=int32, numpy=\n",
              "array([[ -7, -10, -15],\n",
              "       [-11, -16, -24]], dtype=int32)>"
            ]
          },
          "metadata": {
            "tags": []
          },
          "execution_count": 7
        }
      ]
    },
    {
      "cell_type": "code",
      "metadata": {
        "colab": {
          "base_uri": "https://localhost:8080/"
        },
        "id": "1VtEW-1HmWBM",
        "outputId": "68107668-0069-4087-e39f-17b0dbcc778b"
      },
      "source": [
        "tf.data.Dataset.from_tensor_slices([1, 2, 3, 4, 5, 6])"
      ],
      "execution_count": 9,
      "outputs": [
        {
          "output_type": "execute_result",
          "data": {
            "text/plain": [
              "<TensorSliceDataset shapes: (), types: tf.int32>"
            ]
          },
          "metadata": {
            "tags": []
          },
          "execution_count": 9
        }
      ]
    },
    {
      "cell_type": "code",
      "metadata": {
        "colab": {
          "base_uri": "https://localhost:8080/"
        },
        "id": "EeRv5aTcmeL_",
        "outputId": "7b19d8ee-38eb-43ea-e7dc-3878e41b1c49"
      },
      "source": [
        "# Create a CSV file\n",
        "import tempfile\n",
        "_, filename = tempfile.mkstemp()\n",
        "filename = \"temp.txt\"\n",
        "print(filename)\n",
        "with open(filename, 'w') as f:\n",
        "  f.write(\"\"\"Line 1\n",
        "Line 2\n",
        "Line 3\n",
        "  \"\"\")"
      ],
      "execution_count": 13,
      "outputs": [
        {
          "output_type": "stream",
          "text": [
            "temp.txt\n"
          ],
          "name": "stdout"
        }
      ]
    },
    {
      "cell_type": "code",
      "metadata": {
        "colab": {
          "base_uri": "https://localhost:8080/"
        },
        "id": "EBMv7N91mkzo",
        "outputId": "db8200d6-d72c-4348-81e9-5c8912824669"
      },
      "source": [
        "tf.data.TextLineDataset(filename)"
      ],
      "execution_count": 15,
      "outputs": [
        {
          "output_type": "execute_result",
          "data": {
            "text/plain": [
              "<TextLineDatasetV2 shapes: (), types: tf.string>"
            ]
          },
          "metadata": {
            "tags": []
          },
          "execution_count": 15
        }
      ]
    },
    {
      "cell_type": "code",
      "metadata": {
        "colab": {
          "base_uri": "https://localhost:8080/"
        },
        "id": "R4Qp8vKYnM2h",
        "outputId": "dfbdbc69-9385-46c2-c7ea-2f4a969f3a34"
      },
      "source": [
        "tf.test.is_gpu_available()"
      ],
      "execution_count": 18,
      "outputs": [
        {
          "output_type": "execute_result",
          "data": {
            "text/plain": [
              "True"
            ]
          },
          "metadata": {
            "tags": []
          },
          "execution_count": 18
        }
      ]
    },
    {
      "cell_type": "code",
      "metadata": {
        "id": "RPeyMNNBnyrF"
      },
      "source": [
        "layer = tf.keras.layers.Dense(2, input_shape = (None, 2))"
      ],
      "execution_count": 30,
      "outputs": []
    },
    {
      "cell_type": "code",
      "metadata": {
        "colab": {
          "base_uri": "https://localhost:8080/"
        },
        "id": "rMHd8hO1qiYg",
        "outputId": "669d99cb-8568-4c77-f61e-9d34c08e24bf"
      },
      "source": [
        "layer.variables"
      ],
      "execution_count": 35,
      "outputs": [
        {
          "output_type": "execute_result",
          "data": {
            "text/plain": [
              "[<tf.Variable 'dense_2/kernel:0' shape=(2, 2) dtype=float32, numpy=\n",
              " array([[ 0.9136654 , -0.73422575],\n",
              "        [ 0.9305545 ,  0.8993901 ]], dtype=float32)>,\n",
              " <tf.Variable 'dense_2/bias:0' shape=(2,) dtype=float32, numpy=array([0., 0.], dtype=float32)>]"
            ]
          },
          "metadata": {
            "tags": []
          },
          "execution_count": 35
        }
      ]
    },
    {
      "cell_type": "code",
      "metadata": {
        "colab": {
          "base_uri": "https://localhost:8080/"
        },
        "id": "l-7BoWbEqx98",
        "outputId": "9eb570c4-ec8c-4253-e684-96d4339ded8a"
      },
      "source": [
        "tf.ones([1, 2])"
      ],
      "execution_count": 36,
      "outputs": [
        {
          "output_type": "execute_result",
          "data": {
            "text/plain": [
              "<tf.Tensor: shape=(1, 2), dtype=float32, numpy=array([[1., 1.]], dtype=float32)>"
            ]
          },
          "metadata": {
            "tags": []
          },
          "execution_count": 36
        }
      ]
    },
    {
      "cell_type": "code",
      "metadata": {
        "colab": {
          "base_uri": "https://localhost:8080/"
        },
        "id": "J9mtz60roLQk",
        "outputId": "19b77879-83c2-4e0c-b162-eb2b0b477709"
      },
      "source": [
        "layer(tf.ones([1, 2]))"
      ],
      "execution_count": 34,
      "outputs": [
        {
          "output_type": "execute_result",
          "data": {
            "text/plain": [
              "<tf.Tensor: shape=(1, 2), dtype=float32, numpy=array([[1.8442199 , 0.16516435]], dtype=float32)>"
            ]
          },
          "metadata": {
            "tags": []
          },
          "execution_count": 34
        }
      ]
    },
    {
      "cell_type": "code",
      "metadata": {
        "colab": {
          "base_uri": "https://localhost:8080/"
        },
        "id": "IY1OPU4Lqq6d",
        "outputId": "774e1d71-f91c-4b96-8977-3e2e608c4ca9"
      },
      "source": [
        "tf.add(0.9136654 , 0.9305545)"
      ],
      "execution_count": 38,
      "outputs": [
        {
          "output_type": "execute_result",
          "data": {
            "text/plain": [
              "<tf.Tensor: shape=(), dtype=float32, numpy=1.8442199>"
            ]
          },
          "metadata": {
            "tags": []
          },
          "execution_count": 38
        }
      ]
    }
  ]
}