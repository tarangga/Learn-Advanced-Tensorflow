{
  "nbformat": 4,
  "nbformat_minor": 0,
  "metadata": {
    "colab": {
      "name": "Learn: Advanced Tensorflow",
      "provenance": [],
      "authorship_tag": "ABX9TyNx6AM2RAFqo8htCifUr5Gc",
      "include_colab_link": true
    },
    "kernelspec": {
      "name": "python3",
      "display_name": "Python 3"
    },
    "language_info": {
      "name": "python"
    }
  },
  "cells": [
    {
      "cell_type": "markdown",
      "metadata": {
        "id": "view-in-github",
        "colab_type": "text"
      },
      "source": [
        "<a href=\"https://colab.research.google.com/github/tarangga/Learn-Advanced-Tensorflow/blob/main/Learn_Advanced_Tensorflow.ipynb\" target=\"_parent\"><img src=\"https://colab.research.google.com/assets/colab-badge.svg\" alt=\"Open In Colab\"/></a>"
      ]
    },
    {
      "cell_type": "code",
      "metadata": {
        "id": "n594j8NRi3Jo"
      },
      "source": [
        "import tensorflow as tf"
      ],
      "execution_count": 1,
      "outputs": []
    },
    {
      "cell_type": "code",
      "metadata": {
        "colab": {
          "base_uri": "https://localhost:8080/"
        },
        "id": "YsazIPZjjDPY",
        "outputId": "1ad5873b-8583-41f3-8d75-a4f084231d45"
      },
      "source": [
        "tf.add([1, 2], [3, 4])"
      ],
      "execution_count": 2,
      "outputs": [
        {
          "output_type": "execute_result",
          "data": {
            "text/plain": [
              "<tf.Tensor: shape=(2,), dtype=int32, numpy=array([4, 6], dtype=int32)>"
            ]
          },
          "metadata": {
            "tags": []
          },
          "execution_count": 2
        }
      ]
    },
    {
      "cell_type": "code",
      "metadata": {
        "colab": {
          "base_uri": "https://localhost:8080/"
        },
        "id": "Kk1DqE65jMLU",
        "outputId": "ecf32024-7e03-4316-c311-ec7054248a32"
      },
      "source": [
        "tf.square([4, 9.0])"
      ],
      "execution_count": 3,
      "outputs": [
        {
          "output_type": "execute_result",
          "data": {
            "text/plain": [
              "<tf.Tensor: shape=(2,), dtype=float32, numpy=array([16., 81.], dtype=float32)>"
            ]
          },
          "metadata": {
            "tags": []
          },
          "execution_count": 3
        }
      ]
    },
    {
      "cell_type": "code",
      "metadata": {
        "colab": {
          "base_uri": "https://localhost:8080/"
        },
        "id": "uy-XmYrkjnqq",
        "outputId": "0808f870-dbb3-464f-c94b-e1ce151fa860"
      },
      "source": [
        "help(tf.reduce_sum)"
      ],
      "execution_count": 4,
      "outputs": [
        {
          "output_type": "stream",
          "text": [
            "Help on function reduce_sum in module tensorflow.python.ops.math_ops:\n",
            "\n",
            "reduce_sum(input_tensor, axis=None, keepdims=False, name=None)\n",
            "    Computes the sum of elements across dimensions of a tensor.\n",
            "    \n",
            "    This is the reduction operation for the elementwise `tf.math.add` op.\n",
            "    \n",
            "    Reduces `input_tensor` along the dimensions given in `axis`.\n",
            "    Unless `keepdims` is true, the rank of the tensor is reduced by 1 for each\n",
            "    of the entries in `axis`, which must be unique. If `keepdims` is true, the\n",
            "    reduced dimensions are retained with length 1.\n",
            "    \n",
            "    If `axis` is None, all dimensions are reduced, and a\n",
            "    tensor with a single element is returned.\n",
            "    \n",
            "    For example:\n",
            "    \n",
            "      >>> # x has a shape of (2, 3) (two rows and three columns):\n",
            "      >>> x = tf.constant([[1, 1, 1], [1, 1, 1]])\n",
            "      >>> x.numpy()\n",
            "      array([[1, 1, 1],\n",
            "             [1, 1, 1]], dtype=int32)\n",
            "      >>> # sum all the elements\n",
            "      >>> # 1 + 1 + 1 + 1 + 1+ 1 = 6\n",
            "      >>> tf.reduce_sum(x).numpy()\n",
            "      6\n",
            "      >>> # reduce along the first dimension\n",
            "      >>> # the result is [1, 1, 1] + [1, 1, 1] = [2, 2, 2]\n",
            "      >>> tf.reduce_sum(x, 0).numpy()\n",
            "      array([2, 2, 2], dtype=int32)\n",
            "      >>> # reduce along the second dimension\n",
            "      >>> # the result is [1, 1] + [1, 1] + [1, 1] = [3, 3]\n",
            "      >>> tf.reduce_sum(x, 1).numpy()\n",
            "      array([3, 3], dtype=int32)\n",
            "      >>> # keep the original dimensions\n",
            "      >>> tf.reduce_sum(x, 1, keepdims=True).numpy()\n",
            "      array([[3],\n",
            "             [3]], dtype=int32)\n",
            "      >>> # reduce along both dimensions\n",
            "      >>> # the result is 1 + 1 + 1 + 1 + 1 + 1 = 6\n",
            "      >>> # or, equivalently, reduce along rows, then reduce the resultant array\n",
            "      >>> # [1, 1, 1] + [1, 1, 1] = [2, 2, 2]\n",
            "      >>> # 2 + 2 + 2 = 6\n",
            "      >>> tf.reduce_sum(x, [0, 1]).numpy()\n",
            "      6\n",
            "    \n",
            "    Args:\n",
            "      input_tensor: The tensor to reduce. Should have numeric type.\n",
            "      axis: The dimensions to reduce. If `None` (the default), reduces all\n",
            "        dimensions. Must be in the range `[-rank(input_tensor),\n",
            "        rank(input_tensor)]`.\n",
            "      keepdims: If true, retains reduced dimensions with length 1.\n",
            "      name: A name for the operation (optional).\n",
            "    \n",
            "    Returns:\n",
            "      The reduced tensor, of the same dtype as the input_tensor.\n",
            "    \n",
            "    @compatibility(numpy)\n",
            "    Equivalent to np.sum apart the fact that numpy upcast uint8 and int32 to\n",
            "    int64 while tensorflow returns the same dtype as the input.\n",
            "    @end_compatibility\n",
            "\n"
          ],
          "name": "stdout"
        }
      ]
    },
    {
      "cell_type": "code",
      "metadata": {
        "colab": {
          "base_uri": "https://localhost:8080/"
        },
        "id": "OU6qal5ejTzI",
        "outputId": "51455c94-56fd-4ae5-e52f-d65fdf09bc30"
      },
      "source": [
        "tf.reduce_sum([[1, 2, 3], [2, 5, 0]])"
      ],
      "execution_count": 5,
      "outputs": [
        {
          "output_type": "execute_result",
          "data": {
            "text/plain": [
              "<tf.Tensor: shape=(), dtype=int32, numpy=13>"
            ]
          },
          "metadata": {
            "tags": []
          },
          "execution_count": 5
        }
      ]
    },
    {
      "cell_type": "code",
      "metadata": {
        "colab": {
          "base_uri": "https://localhost:8080/"
        },
        "id": "aVDamo6IkCxQ",
        "outputId": "fa95b135-c10c-4023-ef8d-66937b7c53c9"
      },
      "source": [
        "tf.multiply([\n",
        "             [1, 2, 3],\n",
        "             [-1, -2, -3]\n",
        "], [0, -1, 3])"
      ],
      "execution_count": 6,
      "outputs": [
        {
          "output_type": "execute_result",
          "data": {
            "text/plain": [
              "<tf.Tensor: shape=(2, 3), dtype=int32, numpy=\n",
              "array([[ 0, -2,  9],\n",
              "       [ 0,  2, -9]], dtype=int32)>"
            ]
          },
          "metadata": {
            "tags": []
          },
          "execution_count": 6
        }
      ]
    },
    {
      "cell_type": "code",
      "metadata": {
        "colab": {
          "base_uri": "https://localhost:8080/"
        },
        "id": "WIoDjFqPkjoh",
        "outputId": "e8eed1d2-7215-43f8-acf2-03e628152eaa"
      },
      "source": [
        "tf.config.list_physical_devices(\"GPU\")"
      ],
      "execution_count": 7,
      "outputs": [
        {
          "output_type": "execute_result",
          "data": {
            "text/plain": [
              "[PhysicalDevice(name='/physical_device:GPU:0', device_type='GPU')]"
            ]
          },
          "metadata": {
            "tags": []
          },
          "execution_count": 7
        }
      ]
    },
    {
      "cell_type": "code",
      "metadata": {
        "colab": {
          "base_uri": "https://localhost:8080/"
        },
        "id": "CcVrQM8IkqXt",
        "outputId": "6c1955ec-36d6-42d7-c1a3-72da456bc7ff"
      },
      "source": [
        "tf.random.uniform([3, 3]).device.endswith('GPU:0')"
      ],
      "execution_count": 8,
      "outputs": [
        {
          "output_type": "execute_result",
          "data": {
            "text/plain": [
              "True"
            ]
          },
          "metadata": {
            "tags": []
          },
          "execution_count": 8
        }
      ]
    },
    {
      "cell_type": "code",
      "metadata": {
        "colab": {
          "base_uri": "https://localhost:8080/"
        },
        "id": "PXVJkmCzldTf",
        "outputId": "61b1cf33-6d70-44dc-d641-82d9dbc4c155"
      },
      "source": [
        "tf.matmul(\n",
        "    [\n",
        "     [1, 2],\n",
        "     [2, 3]\n",
        "    ], [\n",
        "        [-1, -2, -3],\n",
        "        [-3, -4, -6]\n",
        "    ]\n",
        ")"
      ],
      "execution_count": 9,
      "outputs": [
        {
          "output_type": "execute_result",
          "data": {
            "text/plain": [
              "<tf.Tensor: shape=(2, 3), dtype=int32, numpy=\n",
              "array([[ -7, -10, -15],\n",
              "       [-11, -16, -24]], dtype=int32)>"
            ]
          },
          "metadata": {
            "tags": []
          },
          "execution_count": 9
        }
      ]
    },
    {
      "cell_type": "code",
      "metadata": {
        "colab": {
          "base_uri": "https://localhost:8080/"
        },
        "id": "1VtEW-1HmWBM",
        "outputId": "d795d609-1c81-44c9-d0d9-95a825c20d9f"
      },
      "source": [
        "tf.data.Dataset.from_tensor_slices([1, 2, 3, 4, 5, 6])"
      ],
      "execution_count": 10,
      "outputs": [
        {
          "output_type": "execute_result",
          "data": {
            "text/plain": [
              "<TensorSliceDataset shapes: (), types: tf.int32>"
            ]
          },
          "metadata": {
            "tags": []
          },
          "execution_count": 10
        }
      ]
    },
    {
      "cell_type": "code",
      "metadata": {
        "colab": {
          "base_uri": "https://localhost:8080/"
        },
        "id": "EeRv5aTcmeL_",
        "outputId": "e9b8d7e4-aeb8-4b96-da3e-f22956ecca36"
      },
      "source": [
        "# Create a CSV file\n",
        "import tempfile\n",
        "_, filename = tempfile.mkstemp()\n",
        "filename = \"temp.txt\"\n",
        "print(filename)\n",
        "with open(filename, 'w') as f:\n",
        "  f.write(\"\"\"Line 1\n",
        "Line 2\n",
        "Line 3\n",
        "  \"\"\")"
      ],
      "execution_count": 11,
      "outputs": [
        {
          "output_type": "stream",
          "text": [
            "temp.txt\n"
          ],
          "name": "stdout"
        }
      ]
    },
    {
      "cell_type": "code",
      "metadata": {
        "colab": {
          "base_uri": "https://localhost:8080/"
        },
        "id": "EBMv7N91mkzo",
        "outputId": "47299de5-4df0-49a3-9472-a3a8a55fdd47"
      },
      "source": [
        "tf.data.TextLineDataset(filename)"
      ],
      "execution_count": 12,
      "outputs": [
        {
          "output_type": "execute_result",
          "data": {
            "text/plain": [
              "<TextLineDatasetV2 shapes: (), types: tf.string>"
            ]
          },
          "metadata": {
            "tags": []
          },
          "execution_count": 12
        }
      ]
    },
    {
      "cell_type": "code",
      "metadata": {
        "colab": {
          "base_uri": "https://localhost:8080/"
        },
        "id": "R4Qp8vKYnM2h",
        "outputId": "e58be8bc-fc33-4b97-eb78-d7f7a1e52e6e"
      },
      "source": [
        "tf.test.is_gpu_available()"
      ],
      "execution_count": 13,
      "outputs": [
        {
          "output_type": "stream",
          "text": [
            "WARNING:tensorflow:From <ipython-input-13-17bb7203622b>:1: is_gpu_available (from tensorflow.python.framework.test_util) is deprecated and will be removed in a future version.\n",
            "Instructions for updating:\n",
            "Use `tf.config.list_physical_devices('GPU')` instead.\n"
          ],
          "name": "stdout"
        },
        {
          "output_type": "execute_result",
          "data": {
            "text/plain": [
              "True"
            ]
          },
          "metadata": {
            "tags": []
          },
          "execution_count": 13
        }
      ]
    },
    {
      "cell_type": "code",
      "metadata": {
        "id": "RPeyMNNBnyrF"
      },
      "source": [
        "layer = tf.keras.layers.Dense(2, input_shape = (None, 2))"
      ],
      "execution_count": 14,
      "outputs": []
    },
    {
      "cell_type": "code",
      "metadata": {
        "colab": {
          "base_uri": "https://localhost:8080/"
        },
        "id": "rMHd8hO1qiYg",
        "outputId": "2ce045cd-f805-424a-e1b8-03fa630d2536"
      },
      "source": [
        "layer.variables"
      ],
      "execution_count": 15,
      "outputs": [
        {
          "output_type": "execute_result",
          "data": {
            "text/plain": [
              "[]"
            ]
          },
          "metadata": {
            "tags": []
          },
          "execution_count": 15
        }
      ]
    },
    {
      "cell_type": "code",
      "metadata": {
        "colab": {
          "base_uri": "https://localhost:8080/"
        },
        "id": "l-7BoWbEqx98",
        "outputId": "cb515422-7fa8-4b42-b42d-ace24a75d5c4"
      },
      "source": [
        "tf.ones([1, 2])"
      ],
      "execution_count": 16,
      "outputs": [
        {
          "output_type": "execute_result",
          "data": {
            "text/plain": [
              "<tf.Tensor: shape=(1, 2), dtype=float32, numpy=array([[1., 1.]], dtype=float32)>"
            ]
          },
          "metadata": {
            "tags": []
          },
          "execution_count": 16
        }
      ]
    },
    {
      "cell_type": "code",
      "metadata": {
        "colab": {
          "base_uri": "https://localhost:8080/"
        },
        "id": "J9mtz60roLQk",
        "outputId": "f69a0909-f401-4340-84e5-d05b75b89079"
      },
      "source": [
        "layer(tf.ones([1, 2]))"
      ],
      "execution_count": 17,
      "outputs": [
        {
          "output_type": "execute_result",
          "data": {
            "text/plain": [
              "<tf.Tensor: shape=(1, 2), dtype=float32, numpy=array([[-0.8582662,  1.3088229]], dtype=float32)>"
            ]
          },
          "metadata": {
            "tags": []
          },
          "execution_count": 17
        }
      ]
    },
    {
      "cell_type": "code",
      "metadata": {
        "colab": {
          "base_uri": "https://localhost:8080/"
        },
        "id": "IY1OPU4Lqq6d",
        "outputId": "e2379f52-64d6-4633-9c29-03c75f5919e0"
      },
      "source": [
        "tf.add(0.9136654 , 0.9305545)"
      ],
      "execution_count": 18,
      "outputs": [
        {
          "output_type": "execute_result",
          "data": {
            "text/plain": [
              "<tf.Tensor: shape=(), dtype=float32, numpy=1.8442199>"
            ]
          },
          "metadata": {
            "tags": []
          },
          "execution_count": 18
        }
      ]
    },
    {
      "cell_type": "code",
      "metadata": {
        "colab": {
          "base_uri": "https://localhost:8080/"
        },
        "id": "j51hQpv9tmrd",
        "outputId": "8f51ff02-6c57-475c-a654-86b8b0d985fb"
      },
      "source": [
        "class MyDenseLayer(tf.keras.layers.Layer):\n",
        "  def __init__(self, num_outputs):\n",
        "    super(MyDenseLayer, self).__init__()\n",
        "    self.num_outputs = num_outputs\n",
        "  \n",
        "  def build(self, input_shape):\n",
        "    self.kernel = self.add_weight('kernel',\n",
        "                                  shape=[int(input_shape[-1]),\n",
        "                                  self.num_outputs]\n",
        "                                  )\n",
        "  def call(self, inputs):\n",
        "    return tf.matmul(inputs, self.kernel)\n",
        "\n",
        "MyDenseLayer(10)(tf.ones([10, 5]))"
      ],
      "execution_count": 19,
      "outputs": [
        {
          "output_type": "execute_result",
          "data": {
            "text/plain": [
              "<tf.Tensor: shape=(10, 10), dtype=float32, numpy=\n",
              "array([[-0.07258028,  1.7646511 , -0.29071388, -1.430393  ,  0.6263229 ,\n",
              "        -0.54074395, -1.2006335 ,  0.8489835 , -0.0183025 , -0.36031783],\n",
              "       [-0.07258028,  1.7646511 , -0.29071388, -1.430393  ,  0.6263229 ,\n",
              "        -0.54074395, -1.2006335 ,  0.8489835 , -0.0183025 , -0.36031783],\n",
              "       [-0.07258028,  1.7646511 , -0.29071388, -1.430393  ,  0.6263229 ,\n",
              "        -0.54074395, -1.2006335 ,  0.8489835 , -0.0183025 , -0.36031783],\n",
              "       [-0.07258028,  1.7646511 , -0.29071388, -1.430393  ,  0.6263229 ,\n",
              "        -0.54074395, -1.2006335 ,  0.8489835 , -0.0183025 , -0.36031783],\n",
              "       [-0.07258028,  1.7646511 , -0.29071388, -1.430393  ,  0.6263229 ,\n",
              "        -0.54074395, -1.2006335 ,  0.8489835 , -0.0183025 , -0.36031783],\n",
              "       [-0.07258028,  1.7646511 , -0.29071388, -1.430393  ,  0.6263229 ,\n",
              "        -0.54074395, -1.2006335 ,  0.8489835 , -0.0183025 , -0.36031783],\n",
              "       [-0.07258028,  1.7646511 , -0.29071388, -1.430393  ,  0.6263229 ,\n",
              "        -0.54074395, -1.2006335 ,  0.8489835 , -0.0183025 , -0.36031783],\n",
              "       [-0.07258028,  1.7646511 , -0.29071388, -1.430393  ,  0.6263229 ,\n",
              "        -0.54074395, -1.2006335 ,  0.8489835 , -0.0183025 , -0.36031783],\n",
              "       [-0.07258028,  1.7646511 , -0.29071388, -1.430393  ,  0.6263229 ,\n",
              "        -0.54074395, -1.2006335 ,  0.8489835 , -0.0183025 , -0.36031783],\n",
              "       [-0.07258028,  1.7646511 , -0.29071388, -1.430393  ,  0.6263229 ,\n",
              "        -0.54074395, -1.2006335 ,  0.8489835 , -0.0183025 , -0.36031783]],\n",
              "      dtype=float32)>"
            ]
          },
          "metadata": {
            "tags": []
          },
          "execution_count": 19
        }
      ]
    },
    {
      "cell_type": "code",
      "metadata": {
        "colab": {
          "base_uri": "https://localhost:8080/"
        },
        "id": "iWNnibRJ_PsE",
        "outputId": "367a891f-7844-4820-8c76-21a34c699551"
      },
      "source": [
        "class ResnetBlock(tf.keras.Model):\n",
        "  def __init__(self, kernel_size, filters):\n",
        "    super(ResnetBlock, self).__init__(name='')\n",
        "    filters1, filters2, filters3 = filters\n",
        "\n",
        "    self.conv2a = tf.keras.layers.Conv2D(filters1, (1, 1))\n",
        "    self.bn2a = tf.keras.layers.BatchNormalization()\n",
        "\n",
        "    self.conv2b = tf.keras.layers.Conv2D(filters2, kernel_size, padding='same')\n",
        "    self.bn2b = tf.keras.layers.BatchNormalization()\n",
        "\n",
        "    self.conv2c = tf.keras.layers.Conv2D(filters3, (1, 1))\n",
        "    self.bn2c = tf.keras.layers.BatchNormalization()\n",
        "\n",
        "  def call(self, input_tensor, training=False):\n",
        "    out = self.conv2a(input_tensor)\n",
        "    out = self.bn2a(out, training=training)\n",
        "    out = tf.nn.relu(out)\n",
        "\n",
        "    out = self.conv2b(out)\n",
        "    out = self.bn2b(out, training=training)\n",
        "    \n",
        "    out = self.conv2c(out)\n",
        "    out = self.bn2c(out, training=training)\n",
        "    \n",
        "    out = out + input_tensor\n",
        "    return tf.nn.relu(out)\n",
        "\n",
        "block = ResnetBlock(1, [1, 2, 3])\n",
        "\n",
        "block(tf.ones([1, 2, 3, 3]))"
      ],
      "execution_count": 34,
      "outputs": [
        {
          "output_type": "execute_result",
          "data": {
            "text/plain": [
              "<tf.Tensor: shape=(1, 2, 3, 3), dtype=float32, numpy=\n",
              "array([[[[0.63524044, 1.570189  , 0.83011454],\n",
              "         [0.63524044, 1.570189  , 0.83011454],\n",
              "         [0.63524044, 1.570189  , 0.83011454]],\n",
              "\n",
              "        [[0.63524044, 1.570189  , 0.83011454],\n",
              "         [0.63524044, 1.570189  , 0.83011454],\n",
              "         [0.63524044, 1.570189  , 0.83011454]]]], dtype=float32)>"
            ]
          },
          "metadata": {
            "tags": []
          },
          "execution_count": 34
        }
      ]
    },
    {
      "cell_type": "code",
      "metadata": {
        "id": "Xj2QAhHLGZmQ"
      },
      "source": [
        ""
      ],
      "execution_count": null,
      "outputs": []
    }
  ]
}